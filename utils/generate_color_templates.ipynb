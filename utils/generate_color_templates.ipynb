{
 "cells": [
  {
   "cell_type": "code",
   "execution_count": 1,
   "id": "df3b61d0-a735-4458-9e75-7175fe08f809",
   "metadata": {
    "tags": []
   },
   "outputs": [
    {
     "name": "stdout",
     "output_type": "stream",
     "text": [
      "Mon Aug 26 12:32:02 2024       \n",
      "+-----------------------------------------------------------------------------------------+\n",
      "| NVIDIA-SMI 550.54.15              Driver Version: 550.54.15      CUDA Version: 12.4     |\n",
      "|-----------------------------------------+------------------------+----------------------+\n",
      "| GPU  Name                 Persistence-M | Bus-Id          Disp.A | Volatile Uncorr. ECC |\n",
      "| Fan  Temp   Perf          Pwr:Usage/Cap |           Memory-Usage | GPU-Util  Compute M. |\n",
      "|                                         |                        |               MIG M. |\n",
      "|=========================================+========================+======================|\n",
      "|   0  NVIDIA GeForce RTX 4090        Off |   00000000:2F:00.0  On |                  Off |\n",
      "|  0%   68C    P2            336W /  450W |   23374MiB /  24564MiB |     98%      Default |\n",
      "|                                         |                        |                  N/A |\n",
      "+-----------------------------------------+------------------------+----------------------+\n",
      "                                                                                         \n",
      "+-----------------------------------------------------------------------------------------+\n",
      "| Processes:                                                                              |\n",
      "|  GPU   GI   CI        PID   Type   Process name                              GPU Memory |\n",
      "|        ID   ID                                                               Usage      |\n",
      "|=========================================================================================|\n",
      "+-----------------------------------------------------------------------------------------+\n"
     ]
    }
   ],
   "source": [
    "!nvidia-smi"
   ]
  },
  {
   "cell_type": "code",
   "execution_count": 7,
   "id": "a14e0fde-ada6-41ec-9fa8-fa0c2cdfa062",
   "metadata": {
    "tags": []
   },
   "outputs": [
    {
     "name": "stdout",
     "output_type": "stream",
     "text": [
      "Sunny_Road tensor shape: torch.Size([1, 3, 512, 512])\n",
      "Sunny_Snowy tensor shape: torch.Size([1, 3, 512, 512])\n",
      "Sunny_Rural tensor shape: torch.Size([1, 3, 512, 512])\n",
      "Rainy_Road tensor shape: torch.Size([1, 3, 512, 512])\n",
      "Rainy_Snowy tensor shape: torch.Size([1, 3, 512, 512])\n",
      "Rainy_Rural tensor shape: torch.Size([1, 3, 512, 512])\n",
      "Night_Road tensor shape: torch.Size([1, 3, 512, 512])\n",
      "Night_Snowy tensor shape: torch.Size([1, 3, 512, 512])\n",
      "Night_Rural tensor shape: torch.Size([1, 3, 512, 512])\n",
      "Cloudy Sunny_Road tensor shape: torch.Size([1, 3, 512, 512])\n",
      "Cloudy Sunny_Snowy tensor shape: torch.Size([1, 3, 512, 512])\n",
      "Cloudy Sunny_Rural tensor shape: torch.Size([1, 3, 512, 512])\n"
     ]
    }
   ],
   "source": [
    "import numpy as np\n",
    "import cv2\n",
    "import torch\n",
    "import os\n",
    "import shutil\n",
    "\n",
    "# Define top and bottom options with their respective color codes\n",
    "top_colors = {\n",
    "    \"Sunny\": (173, 216, 230),        # Light blue top\n",
    "    \"Rainy\": (169, 169, 169),        # Gray top\n",
    "    \"Night\": (139, 69, 19),             # Dark blue top\n",
    "    \"Cloudy Sunny\": (192, 192, 224)  # Mixed white and blue top\n",
    "}\n",
    "\n",
    "bottom_colors = {\n",
    "    \"Road\": (50, 50, 50),            # Black / gray bottom\n",
    "    \"Snowy\": (255, 255, 255),        # White bottom\n",
    "    \"Rural\": (0, 0, 64)           # Brown bottom\n",
    "}\n",
    "\n",
    "# Function to add noise to the image\n",
    "def add_noise(image, noise_level=0.025):\n",
    "    noise = np.random.normal(loc=0, scale=noise_level, size=image.shape)\n",
    "    noisy_image = np.clip(image + noise * 255, 0, 255).astype(np.uint8)\n",
    "    return noisy_image\n",
    "\n",
    "# Function to resize the numpy image based on given options\n",
    "def resize_numpy_image(image, max_resolution=512, resize_short_edge=True):\n",
    "    h, w = image.shape[:2]\n",
    "    if resize_short_edge:\n",
    "        if h > w:\n",
    "            scale = max_resolution / w\n",
    "        else:\n",
    "            scale = max_resolution / h\n",
    "    else:\n",
    "        scale = max_resolution / max(h, w)\n",
    "\n",
    "    new_h, new_w = int(h * scale), int(w * scale)\n",
    "    resized_image = cv2.resize(image, (new_w, new_h), interpolation=cv2.INTER_CUBIC)\n",
    "    resized_image = cv2.resize(resized_image, (new_w//64, new_h//64), interpolation=cv2.INTER_CUBIC)\n",
    "    resized_image = cv2.resize(resized_image, (new_w, new_h), interpolation=cv2.INTER_NEAREST)\n",
    "    return resized_image\n",
    "\n",
    "# Function to convert image to tensor\n",
    "def img2tensor(image):\n",
    "    image = image.transpose(2, 0, 1)  # Convert to channel-first format\n",
    "    tensor_image = torch.from_numpy(image).float() / 255.0\n",
    "    return tensor_image\n",
    "\n",
    "# Function to empty the directory\n",
    "def empty_directory(directory):\n",
    "    if os.path.exists(directory):\n",
    "        shutil.rmtree(directory)  # Remove the directory and its contents\n",
    "    os.makedirs(directory)  # Create the directory again\n",
    "\n",
    "# Define the main function to generate templates\n",
    "def generate_color_conditioning_templates():\n",
    "    output_dir = \"T2I-Adriver/dataset/color_templates\"\n",
    "    empty_directory(output_dir)  # Empty the directory before saving new images\n",
    "\n",
    "    opt = type('', (), {})()  # Create a simple object to store options\n",
    "    opt.max_resolution = 512\n",
    "    opt.resize_short_edge = True\n",
    "\n",
    "    for top_name, top_color in top_colors.items():\n",
    "        for bottom_name, bottom_color in bottom_colors.items():\n",
    "            # Create a base image\n",
    "            image = np.zeros((512, 512, 3), dtype=np.uint8)\n",
    "\n",
    "            # Set the top half to the top color and the bottom half to the bottom color\n",
    "            image[:256, :] = top_color\n",
    "            image[256:, :] = bottom_color\n",
    "\n",
    "            # Add noise to the image\n",
    "            noisy_image = add_noise(image)\n",
    "\n",
    "            # Resize and process the image\n",
    "            resized_image = resize_numpy_image(noisy_image, max_resolution=opt.max_resolution, resize_short_edge=opt.resize_short_edge)\n",
    "\n",
    "            # Convert to tensor\n",
    "            color_tensor = img2tensor(resized_image).unsqueeze(0)\n",
    "\n",
    "            # Output the resulting tensor shape and save the image for verification\n",
    "            print(f\"{top_name}_{bottom_name} tensor shape: {color_tensor.shape}\")\n",
    "            \n",
    "            # Save the image\n",
    "            image_filename = f\"{top_name}_{bottom_name}.png\"\n",
    "            cv2.imwrite(os.path.join(output_dir, image_filename), resized_image)\n",
    "\n",
    "# Run the function to generate templates\n",
    "generate_color_conditioning_templates()\n"
   ]
  }
 ],
 "metadata": {
  "kernelspec": {
   "display_name": "Python 3 (ipykernel)",
   "language": "python",
   "name": "python3"
  },
  "language_info": {
   "codemirror_mode": {
    "name": "ipython",
    "version": 3
   },
   "file_extension": ".py",
   "mimetype": "text/x-python",
   "name": "python",
   "nbconvert_exporter": "python",
   "pygments_lexer": "ipython3",
   "version": "3.10.12"
  }
 },
 "nbformat": 4,
 "nbformat_minor": 5
}
