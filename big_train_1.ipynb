{
 "cells": [
  {
   "cell_type": "markdown",
   "id": "d0a7485d-60da-406c-b3d8-4841617b7987",
   "metadata": {},
   "source": [
    "# T2I Train scripts"
   ]
  },
  {
   "cell_type": "code",
   "execution_count": null,
   "id": "f30de9ab-df93-44b1-a156-9c5d680e5271",
   "metadata": {
    "tags": []
   },
   "outputs": [],
   "source": [
    "!nvidia-smi"
   ]
  },
  {
   "cell_type": "markdown",
   "id": "0f869e7f-d74b-4ebb-ac93-f32c57c92216",
   "metadata": {},
   "source": [
    "## Create dataset"
   ]
  },
  {
   "cell_type": "code",
   "execution_count": null,
   "id": "01f5cf3f-639e-4757-9eae-0d9017b87f22",
   "metadata": {
    "tags": []
   },
   "outputs": [],
   "source": [
    "!python T2I-Adriver/sample_all_images_train.py"
   ]
  },
  {
   "cell_type": "markdown",
   "id": "303752f9-630b-4b71-b0c3-938dcb730edb",
   "metadata": {},
   "source": [
    "## Train"
   ]
  },
  {
   "cell_type": "code",
   "execution_count": null,
   "id": "68f63ece-c0cb-4d76-a7a8-010b62e3dd75",
   "metadata": {
    "collapsed": true,
    "jupyter": {
     "outputs_hidden": true
    },
    "tags": []
   },
   "outputs": [],
   "source": [
    "%%time\n",
    "!python T2I-Adriver/train2.py -t --base configs/pl_train/coadapter-v1-train_depth_seg_sketch-big.yaml --train True --test False --gpus 1 --gpu 0 --scale_lr True \\\n",
    "    --num_nodes 1 --sd_finetune_from models/sd-v1-4.ckpt \\\n",
    "    --name coadapter-depth-seg-sketch-big-new"
   ]
  },
  {
   "cell_type": "code",
   "execution_count": null,
   "id": "a22debc2-4c78-4cc7-8d94-960af4fb28d3",
   "metadata": {
    "collapsed": true,
    "jupyter": {
     "outputs_hidden": true
    },
    "tags": []
   },
   "outputs": [],
   "source": [
    "%%time\n",
    "!python T2I-Adriver/train2.py -t --base configs/pl_train/coadapter-v1-train_color_depth_seg-big.yaml --train True --test False --gpus 1 --gpu 0 --scale_lr True \\\n",
    "    --num_nodes 1 --sd_finetune_from models/sd-v1-4.ckpt \\\n",
    "    --name coadapter-color-depth-seg-big-shift-dev"
   ]
  },
  {
   "cell_type": "markdown",
   "id": "7ccb7340-85ff-49ca-b278-749cf0c6fe83",
   "metadata": {},
   "source": [
    "## Validation"
   ]
  },
  {
   "cell_type": "markdown",
   "id": "afb6044b-e730-4852-b7dd-e6b31e554e45",
   "metadata": {},
   "source": [
    "Ground truth"
   ]
  },
  {
   "cell_type": "code",
   "execution_count": null,
   "id": "e56ac735-d14c-4bf9-a0a2-782d0865726b",
   "metadata": {
    "collapsed": true,
    "jupyter": {
     "outputs_hidden": true
    },
    "tags": []
   },
   "outputs": [],
   "source": [
    "!python T2I-Adriver/app_script.py"
   ]
  },
  {
   "cell_type": "markdown",
   "id": "91aa18e5-ad13-4338-bfda-44e3b2f8bc79",
   "metadata": {},
   "source": [
    "Depth seg sketch"
   ]
  },
  {
   "cell_type": "code",
   "execution_count": null,
   "id": "79d972c1-abef-48cb-853e-e61fc2cdb6b6",
   "metadata": {
    "collapsed": true,
    "jupyter": {
     "outputs_hidden": true
    },
    "tags": []
   },
   "outputs": [],
   "source": [
    "!python T2I-Adriver/app_script-Copy1.py"
   ]
  },
  {
   "cell_type": "markdown",
   "id": "8e450163-e048-4b3d-8af4-49319b25794e",
   "metadata": {},
   "source": [
    "Color depth seg"
   ]
  },
  {
   "cell_type": "code",
   "execution_count": null,
   "id": "77f8c3f9-d122-43cc-9708-aa6f32437fa9",
   "metadata": {
    "collapsed": true,
    "jupyter": {
     "outputs_hidden": true
    },
    "tags": []
   },
   "outputs": [],
   "source": [
    "!python T2I-Adriver/app_script-Copy2.py"
   ]
  }
 ],
 "metadata": {
  "kernelspec": {
   "display_name": "Python 3 (ipykernel)",
   "language": "python",
   "name": "python3"
  },
  "language_info": {
   "codemirror_mode": {
    "name": "ipython",
    "version": 3
   },
   "file_extension": ".py",
   "mimetype": "text/x-python",
   "name": "python",
   "nbconvert_exporter": "python",
   "pygments_lexer": "ipython3",
   "version": "3.10.12"
  }
 },
 "nbformat": 4,
 "nbformat_minor": 5
}
